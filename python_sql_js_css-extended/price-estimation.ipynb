{
 "cells": [
  {
   "cell_type": "code",
   "execution_count": 1,
   "metadata": {},
   "outputs": [],
   "source": [
    "import matplotlib.pyplot as plt\n",
    "import numpy as np\n",
    "import pandas as pd"
   ]
  },
  {
   "cell_type": "code",
   "execution_count": 51,
   "metadata": {},
   "outputs": [],
   "source": [
    "# Read the csv file into a pandas DataFrame\n",
    "uber = pd.read_csv('uberPricesNew.csv')"
   ]
  },
  {
   "cell_type": "code",
   "execution_count": 52,
   "metadata": {},
   "outputs": [
    {
     "data": {
      "text/plain": [
       "array(['Thursday', 'Friday', 'Saturday', 'Sunday', 'Monday', 'Tuesday',\n",
       "       'Wednesday'], dtype=object)"
      ]
     },
     "execution_count": 52,
     "metadata": {},
     "output_type": "execute_result"
    }
   ],
   "source": [
    "uber[\"day\"].unique()"
   ]
  },
  {
   "cell_type": "code",
   "execution_count": 57,
   "metadata": {},
   "outputs": [
    {
     "data": {
      "text/plain": [
       "(68094, 14)"
      ]
     },
     "execution_count": 57,
     "metadata": {},
     "output_type": "execute_result"
    }
   ],
   "source": [
    "#uber = uber.loc[(uber[\"day\"] == \"Tuesday\")]\n",
    "uber = uber.loc[(uber[\"day\"] == \"Tuesday\") | \n",
    "((uber[\"day\"] == \"Monday\") & (uber[\"time\"].isin([\"00:00\", \"01:00\",\"02:00\",\"03:00\",\"04:00\",\"05:00\",\"06:00\",\"07:00\",\"08:00\",\"09:00\",\"10:00\",\"11:00\"]))) | \n",
    "((uber[\"day\"] == \"Wednesday\") & (uber[\"time\"].isin([\"07:00\",\"08:00\",\"09:00\"]))) |\n",
    "((uber[\"day\"] == \"Friday\") & (uber[\"time\"].isin([\"12:00\",\"13:00\",\"14:00\",\"22:00\",\"23:00\"]))) |\n",
    "((uber[\"day\"] == \"Thursday\") & (uber[\"time\"] == \"23:00\"))]\n",
    "#uber = uber.loc[(uber[\"day\"] == \"Friday\") | (uber[\"day\"] == \"Thursday\") | (uber[\"day\"] == \"Wednesday\") |   \"12:00\",\"13:00\",\"14:00\",\"22:00\",\"23:00\"\n",
    "#                (uber[\"day\"] == \"Monday\") | (uber[\"day\"] == \"Tuesday\")]\n",
    "uber.shape"
   ]
  },
  {
   "cell_type": "code",
   "execution_count": 58,
   "metadata": {
    "scrolled": true
   },
   "outputs": [
    {
     "data": {
      "text/html": [
       "<div>\n",
       "<style scoped>\n",
       "    .dataframe tbody tr th:only-of-type {\n",
       "        vertical-align: middle;\n",
       "    }\n",
       "\n",
       "    .dataframe tbody tr th {\n",
       "        vertical-align: top;\n",
       "    }\n",
       "\n",
       "    .dataframe thead th {\n",
       "        text-align: right;\n",
       "    }\n",
       "</style>\n",
       "<table border=\"1\" class=\"dataframe\">\n",
       "  <thead>\n",
       "    <tr style=\"text-align: right;\">\n",
       "      <th></th>\n",
       "      <th>place</th>\n",
       "      <th>dist</th>\n",
       "      <th>display_name</th>\n",
       "      <th>avg_estimate</th>\n",
       "      <th>time</th>\n",
       "    </tr>\n",
       "  </thead>\n",
       "  <tbody>\n",
       "    <tr>\n",
       "      <th>0</th>\n",
       "      <td>Centennial Park</td>\n",
       "      <td>1.37</td>\n",
       "      <td>UberPool</td>\n",
       "      <td>7.5</td>\n",
       "      <td>23:00</td>\n",
       "    </tr>\n",
       "    <tr>\n",
       "      <th>1</th>\n",
       "      <td>Centennial Park</td>\n",
       "      <td>1.37</td>\n",
       "      <td>UberX</td>\n",
       "      <td>8.0</td>\n",
       "      <td>23:00</td>\n",
       "    </tr>\n",
       "    <tr>\n",
       "      <th>2</th>\n",
       "      <td>Centennial Park</td>\n",
       "      <td>1.37</td>\n",
       "      <td>UberXL</td>\n",
       "      <td>10.5</td>\n",
       "      <td>23:00</td>\n",
       "    </tr>\n",
       "    <tr>\n",
       "      <th>3</th>\n",
       "      <td>Centennial Park</td>\n",
       "      <td>1.37</td>\n",
       "      <td>Select</td>\n",
       "      <td>13.0</td>\n",
       "      <td>23:00</td>\n",
       "    </tr>\n",
       "    <tr>\n",
       "      <th>4</th>\n",
       "      <td>Centennial Park</td>\n",
       "      <td>1.37</td>\n",
       "      <td>Black</td>\n",
       "      <td>17.0</td>\n",
       "      <td>23:00</td>\n",
       "    </tr>\n",
       "  </tbody>\n",
       "</table>\n",
       "</div>"
      ],
      "text/plain": [
       "             place  dist display_name  avg_estimate   time\n",
       "0  Centennial Park  1.37     UberPool           7.5  23:00\n",
       "1  Centennial Park  1.37        UberX           8.0  23:00\n",
       "2  Centennial Park  1.37       UberXL          10.5  23:00\n",
       "3  Centennial Park  1.37       Select          13.0  23:00\n",
       "4  Centennial Park  1.37        Black          17.0  23:00"
      ]
     },
     "execution_count": 58,
     "metadata": {},
     "output_type": "execute_result"
    }
   ],
   "source": [
    "# Read the csv file into a pandas DataFrame\n",
    "\n",
    "uber[\"avg_estimate\"] = (uber[\"high_estimate\"] + uber[\"low_estimate\"]) / 2\n",
    "uber = uber[[\"place\",\"dist\",\"display_name\",\"avg_estimate\",\"time\"]]\n",
    "uber.head()"
   ]
  },
  {
   "cell_type": "code",
   "execution_count": 76,
   "metadata": {},
   "outputs": [
    {
     "data": {
      "text/html": [
       "<div>\n",
       "<style scoped>\n",
       "    .dataframe tbody tr th:only-of-type {\n",
       "        vertical-align: middle;\n",
       "    }\n",
       "\n",
       "    .dataframe tbody tr th {\n",
       "        vertical-align: top;\n",
       "    }\n",
       "\n",
       "    .dataframe thead th {\n",
       "        text-align: right;\n",
       "    }\n",
       "</style>\n",
       "<table border=\"1\" class=\"dataframe\">\n",
       "  <thead>\n",
       "    <tr style=\"text-align: right;\">\n",
       "      <th></th>\n",
       "      <th>place</th>\n",
       "      <th>dist</th>\n",
       "      <th>display_name</th>\n",
       "      <th>avg_estimate</th>\n",
       "      <th>time</th>\n",
       "    </tr>\n",
       "  </thead>\n",
       "  <tbody>\n",
       "    <tr>\n",
       "      <th>0</th>\n",
       "      <td>Centennial Park</td>\n",
       "      <td>1.71</td>\n",
       "      <td>Shared</td>\n",
       "      <td>3.0</td>\n",
       "      <td>23:00</td>\n",
       "    </tr>\n",
       "    <tr>\n",
       "      <th>1</th>\n",
       "      <td>Centennial Park</td>\n",
       "      <td>1.71</td>\n",
       "      <td>Lyft</td>\n",
       "      <td>7.0</td>\n",
       "      <td>23:00</td>\n",
       "    </tr>\n",
       "    <tr>\n",
       "      <th>2</th>\n",
       "      <td>Centennial Park</td>\n",
       "      <td>1.71</td>\n",
       "      <td>Lyft XL</td>\n",
       "      <td>10.5</td>\n",
       "      <td>23:00</td>\n",
       "    </tr>\n",
       "    <tr>\n",
       "      <th>3</th>\n",
       "      <td>Centennial Park</td>\n",
       "      <td>1.71</td>\n",
       "      <td>Lux</td>\n",
       "      <td>13.5</td>\n",
       "      <td>23:00</td>\n",
       "    </tr>\n",
       "    <tr>\n",
       "      <th>4</th>\n",
       "      <td>Centennial Park</td>\n",
       "      <td>1.71</td>\n",
       "      <td>Lux Black</td>\n",
       "      <td>16.5</td>\n",
       "      <td>23:00</td>\n",
       "    </tr>\n",
       "  </tbody>\n",
       "</table>\n",
       "</div>"
      ],
      "text/plain": [
       "             place  dist display_name  avg_estimate   time\n",
       "0  Centennial Park  1.71       Shared           3.0  23:00\n",
       "1  Centennial Park  1.71         Lyft           7.0  23:00\n",
       "2  Centennial Park  1.71      Lyft XL          10.5  23:00\n",
       "3  Centennial Park  1.71          Lux          13.5  23:00\n",
       "4  Centennial Park  1.71    Lux Black          16.5  23:00"
      ]
     },
     "execution_count": 76,
     "metadata": {},
     "output_type": "execute_result"
    }
   ],
   "source": [
    "lyft = pd.read_csv('lyftPricesNew.csv')\n",
    "lyft = lyft.loc[(lyft[\"day\"] == \"Tuesday\") | \n",
    "((lyft[\"day\"] == \"Monday\") & (lyft[\"time\"].isin([\"00:00\", \"01:00\",\"02:00\",\"03:00\",\"04:00\",\"05:00\",\"06:00\",\"07:00\",\"08:00\",\"09:00\",\"10:00\",\"11:00\"]))) | \n",
    "((lyft[\"day\"] == \"Wednesday\") & (lyft[\"time\"].isin([\"07:00\",\"08:00\",\"09:00\"]))) |\n",
    "((lyft[\"day\"] == \"Friday\") & (lyft[\"time\"].isin([\"12:00\",\"13:00\",\"14:00\",\"22:00\",\"23:00\"]))) |\n",
    "((lyft[\"day\"] == \"Thursday\") & (lyft[\"time\"] == \"23:00\"))]\n",
    "lyft[\"avg_estimate\"] = (lyft[\"high_estimate\"] + lyft[\"low_estimate\"]) / 2\n",
    "lyft= lyft[[\"place\",\"dist\",\"display_name\",\"avg_estimate\",\"time\"]]\n",
    "lyft.head()"
   ]
  },
  {
   "cell_type": "markdown",
   "metadata": {},
   "source": [
    "## Linear Regression with seperate Uber and Lyft Files"
   ]
  },
  {
   "cell_type": "code",
   "execution_count": 59,
   "metadata": {},
   "outputs": [],
   "source": [
    "uber = pd.get_dummies(uber)"
   ]
  },
  {
   "cell_type": "code",
   "execution_count": 60,
   "metadata": {},
   "outputs": [
    {
     "data": {
      "text/plain": [
       "Index(['dist', 'avg_estimate', 'place_Atlanta High Museum', 'place_Bartow',\n",
       "       'place_Buckhead Bars', 'place_Butts', 'place_Centennial Park',\n",
       "       'place_Cherokee', 'place_Clayton', 'place_Cobb', 'place_Coweta',\n",
       "       'place_Dekalb', 'place_Douglas', 'place_Edgewood Bars',\n",
       "       'place_Emory University', 'place_Fayette', 'place_Forsyth',\n",
       "       'place_Fox Theater', 'place_Fulton', 'place_Georgia State University',\n",
       "       'place_Gwinett', 'place_Hall', 'place_Hartsfield Jackson Airport',\n",
       "       'place_Henry', 'place_Inman Park', 'place_Lenox Square Mall',\n",
       "       'place_Mercedes Benz Stadium', 'place_Newton', 'place_Paulding',\n",
       "       'place_Piedmont Park', 'place_Rockdale', 'place_Shops at Buckhead',\n",
       "       'place_Six Flags', 'place_Spalding', 'place_Spelman College',\n",
       "       'place_Statefarm Arena', 'place_Stone Mountain', 'place_SunTrust Park',\n",
       "       'place_Virginia Highlands', 'place_Walton', 'place_Zoo Atlanta',\n",
       "       'display_name_Black', 'display_name_Black SUV', 'display_name_Select',\n",
       "       'display_name_UberPool', 'display_name_UberX', 'display_name_UberXL',\n",
       "       'time_00:00', 'time_01:00', 'time_02:00', 'time_03:00', 'time_04:00',\n",
       "       'time_05:00', 'time_06:00', 'time_07:00', 'time_08:00', 'time_09:00',\n",
       "       'time_10:00', 'time_11:00', 'time_12:00', 'time_13:00', 'time_14:00',\n",
       "       'time_15:00', 'time_16:00', 'time_17:00', 'time_18:00', 'time_19:00',\n",
       "       'time_20:00', 'time_21:00', 'time_22:00', 'time_23:00'],\n",
       "      dtype='object')"
      ]
     },
     "execution_count": 60,
     "metadata": {},
     "output_type": "execute_result"
    }
   ],
   "source": [
    "uber.columns"
   ]
  },
  {
   "cell_type": "code",
   "execution_count": 61,
   "metadata": {},
   "outputs": [],
   "source": [
    "X = uber[['dist', 'place_Atlanta High Museum', 'place_Bartow',\n",
    "       'place_Buckhead Bars', 'place_Butts', 'place_Centennial Park',\n",
    "       'place_Cherokee', 'place_Clayton', 'place_Cobb', 'place_Coweta',\n",
    "       'place_Dekalb', 'place_Douglas', 'place_Edgewood Bars',\n",
    "       'place_Emory University', 'place_Fayette', 'place_Forsyth',\n",
    "       'place_Fox Theater', 'place_Fulton', 'place_Georgia State University',\n",
    "       'place_Gwinett', 'place_Hall', 'place_Hartsfield Jackson Airport',\n",
    "       'place_Henry', 'place_Inman Park', 'place_Lenox Square Mall',\n",
    "       'place_Mercedes Benz Stadium', 'place_Newton', 'place_Paulding',\n",
    "       'place_Piedmont Park', 'place_Rockdale', 'place_Shops at Buckhead',\n",
    "       'place_Six Flags', 'place_Spalding', 'place_Spelman College',\n",
    "       'place_Statefarm Arena', 'place_Stone Mountain', 'place_SunTrust Park',\n",
    "       'place_Virginia Highlands', 'place_Walton', 'place_Zoo Atlanta',\n",
    "       'display_name_Black', 'display_name_Black SUV', 'display_name_Select',\n",
    "       'display_name_UberPool', 'display_name_UberX', 'display_name_UberXL',\n",
    "       'time_00:00', 'time_01:00', 'time_02:00', 'time_03:00', 'time_04:00',\n",
    "       'time_05:00', 'time_06:00', 'time_07:00', 'time_08:00', 'time_09:00',\n",
    "       'time_10:00', 'time_11:00', 'time_12:00', 'time_13:00', 'time_14:00',\n",
    "       'time_15:00', 'time_16:00', 'time_17:00', 'time_18:00', 'time_19:00',\n",
    "       'time_20:00', 'time_21:00', 'time_22:00', 'time_23:00']]"
   ]
  },
  {
   "cell_type": "code",
   "execution_count": 62,
   "metadata": {},
   "outputs": [
    {
     "data": {
      "text/plain": [
       "(68094, 71)"
      ]
     },
     "execution_count": 62,
     "metadata": {},
     "output_type": "execute_result"
    }
   ],
   "source": [
    "uber.shape"
   ]
  },
  {
   "cell_type": "code",
   "execution_count": 63,
   "metadata": {},
   "outputs": [
    {
     "name": "stdout",
     "output_type": "stream",
     "text": [
      "(68094, 70) (68094, 1)\n"
     ]
    }
   ],
   "source": [
    "y = uber[\"avg_estimate\"].values.reshape(-1, 1)\n",
    "print(X.shape, y.shape)"
   ]
  },
  {
   "cell_type": "code",
   "execution_count": 77,
   "metadata": {},
   "outputs": [],
   "source": [
    "lyft = pd.get_dummies(lyft)"
   ]
  },
  {
   "cell_type": "code",
   "execution_count": 78,
   "metadata": {},
   "outputs": [
    {
     "data": {
      "text/plain": [
       "Index(['dist', 'avg_estimate', 'place_Atlanta High Museum', 'place_Bartow',\n",
       "       'place_Buckhead Bars', 'place_Butts', 'place_Centennial Park',\n",
       "       'place_Cherokee', 'place_Clayton', 'place_Cobb', 'place_Coweta',\n",
       "       'place_Dekalb', 'place_Douglas', 'place_Edgewood Bars',\n",
       "       'place_Emory University', 'place_Fayette', 'place_Forsyth',\n",
       "       'place_Fox Theater', 'place_Fulton', 'place_Georgia State University',\n",
       "       'place_Gwinett', 'place_Hall', 'place_Hartsfield Jackson Airport',\n",
       "       'place_Henry', 'place_Inman Park', 'place_Lenox Square Mall',\n",
       "       'place_Mercedes Benz Stadium', 'place_Newton', 'place_Paulding',\n",
       "       'place_Piedmont Park', 'place_Rockdale', 'place_Shops at Buckhead',\n",
       "       'place_Six Flags', 'place_Spalding', 'place_Spelman College',\n",
       "       'place_Statefarm Arena', 'place_Stone Mountain', 'place_SunTrust Park',\n",
       "       'place_Virginia Highlands', 'place_Walton', 'place_Zoo Atlanta',\n",
       "       'display_name_Lux', 'display_name_Lux Black',\n",
       "       'display_name_Lux Black XL', 'display_name_Lyft',\n",
       "       'display_name_Lyft XL', 'display_name_Shared', 'time_00:00',\n",
       "       'time_01:00', 'time_02:00', 'time_03:00', 'time_04:00', 'time_05:00',\n",
       "       'time_06:00', 'time_07:00', 'time_08:00', 'time_09:00', 'time_10:00',\n",
       "       'time_11:00', 'time_12:00', 'time_13:00', 'time_14:00', 'time_15:00',\n",
       "       'time_16:00', 'time_17:00', 'time_18:00', 'time_19:00', 'time_20:00',\n",
       "       'time_21:00', 'time_22:00', 'time_23:00'],\n",
       "      dtype='object')"
      ]
     },
     "execution_count": 78,
     "metadata": {},
     "output_type": "execute_result"
    }
   ],
   "source": [
    "lyft.columns"
   ]
  },
  {
   "cell_type": "code",
   "execution_count": null,
   "metadata": {},
   "outputs": [],
   "source": []
  },
  {
   "cell_type": "code",
   "execution_count": null,
   "metadata": {},
   "outputs": [],
   "source": []
  },
  {
   "cell_type": "code",
   "execution_count": null,
   "metadata": {},
   "outputs": [],
   "source": []
  },
  {
   "cell_type": "code",
   "execution_count": null,
   "metadata": {},
   "outputs": [],
   "source": []
  },
  {
   "cell_type": "markdown",
   "metadata": {},
   "source": [
    "### Linear regression Uber"
   ]
  },
  {
   "cell_type": "code",
   "execution_count": 64,
   "metadata": {},
   "outputs": [],
   "source": [
    "from sklearn.model_selection import train_test_split\n",
    "\n",
    "X_train, X_test, y_train, y_test = train_test_split(X, y, random_state=42)"
   ]
  },
  {
   "cell_type": "code",
   "execution_count": 65,
   "metadata": {},
   "outputs": [
    {
     "data": {
      "text/plain": [
       "LinearRegression(copy_X=True, fit_intercept=True, n_jobs=None,\n",
       "         normalize=False)"
      ]
     },
     "execution_count": 65,
     "metadata": {},
     "output_type": "execute_result"
    }
   ],
   "source": [
    "from sklearn.linear_model import LinearRegression\n",
    "model = LinearRegression()\n",
    "model.fit(X_train, y_train)"
   ]
  },
  {
   "cell_type": "code",
   "execution_count": 66,
   "metadata": {},
   "outputs": [
    {
     "name": "stdout",
     "output_type": "stream",
     "text": [
      "Training Score: 0.8348965814174851\n",
      "Testing Score: 0.8330117975389122\n"
     ]
    }
   ],
   "source": [
    "model.fit(X_train, y_train)\n",
    "training_score = model.score(X_train, y_train)\n",
    "testing_score = model.score(X_test, y_test)\n",
    "\n",
    "### END SOLUTION \n",
    "\n",
    "print(f\"Training Score: {training_score}\")\n",
    "print(f\"Testing Score: {testing_score}\")"
   ]
  },
  {
   "cell_type": "code",
   "execution_count": 67,
   "metadata": {},
   "outputs": [
    {
     "data": {
      "image/png": "[encoded data removed]",
      "text/plain": [
       "<Figure size 432x288 with 1 Axes>"
      ]
     },
     "metadata": {
      "needs_background": "light"
     },
     "output_type": "display_data"
    }
   ],
   "source": [
    "plt.scatter(model.predict(X_train), model.predict(X_train) - y_train, c=\"blue\", label=\"Training Data\")\n",
    "plt.scatter(model.predict(X_test), model.predict(X_test) - y_test, c=\"orange\", label=\"Testing Data\")\n",
    "plt.legend()\n",
    "plt.hlines(y=0, xmin=y_test.min(), xmax=y_test.max())\n",
    "plt.title(\"Residual Plot\")\n",
    "plt.show()"
   ]
  },
  {
   "cell_type": "code",
   "execution_count": 68,
   "metadata": {},
   "outputs": [
    {
     "name": "stdout",
     "output_type": "stream",
     "text": [
      "MSE: 589.2013994362374, R2: 0.8330117975389122\n"
     ]
    }
   ],
   "source": [
    "from sklearn.metrics import mean_squared_error\n",
    "\n",
    "predictions = model.predict(X_test)\n",
    "MSE = mean_squared_error(y_test, predictions)\n",
    "r2 = model.score(X_test, y_test)\n",
    "\n",
    "print(f\"MSE: {MSE}, R2: {r2}\")"
   ]
  },
  {
   "cell_type": "code",
   "execution_count": null,
   "metadata": {},
   "outputs": [],
   "source": [
    "predictions-y_test"
   ]
  },
  {
   "cell_type": "markdown",
   "metadata": {},
   "source": [
    "### LassoLars Regression Uber"
   ]
  },
  {
   "cell_type": "code",
   "execution_count": null,
   "metadata": {},
   "outputs": [],
   "source": [
    "from sklearn.linear_model import LassoLars\n",
    "reg = LassoLars(alpha=0.01)\n",
    "reg.fit(X_train, y_train)\n",
    "training_score1 = reg.score(X_train, y_train)\n",
    "testing_score1 = reg.score(X_test, y_test)\n",
    "\n",
    "### END SOLUTION \n",
    "\n",
    "print(f\"Training Score: {training_score1}\")\n",
    "print(f\"Testing Score: {testing_score1}\")"
   ]
  },
  {
   "cell_type": "markdown",
   "metadata": {},
   "source": [
    "### SVR Regression Uber"
   ]
  },
  {
   "cell_type": "code",
   "execution_count": null,
   "metadata": {},
   "outputs": [],
   "source": [
    "# Did not work\n",
    "hey\n",
    "from sklearn.svm import SVR\n",
    "\n",
    "clf = SVR(gamma='scale', C=1.0, epsilon=0.2)\n",
    "clf.fit(X, y) \n",
    "training_score2 = clf.score(X_train, y_train)\n",
    "testing_score2 = clf.score(X_test, y_test)\n",
    "\n",
    "### END SOLUTION \n",
    "\n",
    "print(f\"Training Score: {training_score2}\")\n",
    "print(f\"Testing Score: {testing_score2}\")"
   ]
  },
  {
   "cell_type": "markdown",
   "metadata": {},
   "source": [
    "### Random Forest Regressor"
   ]
  },
  {
   "cell_type": "code",
   "execution_count": null,
   "metadata": {},
   "outputs": [],
   "source": [
    "from sklearn.ensemble import RandomForestRegressor\n",
    "\n",
    "regr1 = RandomForestRegressor(max_depth=2, random_state=0, n_estimators=100)\n",
    "regr1.fit(X, y)\n",
    "training_score3 = regr1.score(X_train, y_train)\n",
    "testing_score3 = regr1.score(X_test, y_test)\n",
    "\n",
    "### END SOLUTION \n",
    "\n",
    "print(f\"Training Score: {training_score3}\")\n",
    "print(f\"Testing Score: {testing_score3}\")"
   ]
  },
  {
   "cell_type": "code",
   "execution_count": null,
   "metadata": {},
   "outputs": [],
   "source": [
    "from sklearn.ensemble import RandomForestRegressor\n",
    "\n",
    "regr2 = RandomForestRegressor(max_depth=5, random_state=0, n_estimators=200)\n",
    "regr2.fit(X, y)\n",
    "training_score3 = regr2.score(X_train, y_train)\n",
    "testing_score3 = regr2.score(X_test, y_test)\n",
    "\n",
    "### END SOLUTION \n",
    "\n",
    "print(f\"Training Score: {training_score3}\")\n",
    "print(f\"Testing Score: {testing_score3}\")"
   ]
  },
  {
   "cell_type": "code",
   "execution_count": null,
   "metadata": {},
   "outputs": [],
   "source": [
    "from sklearn.ensemble import RandomForestRegressor\n",
    "\n",
    "regr3 = RandomForestRegressor(max_depth=7, random_state=0, n_estimators=200)\n",
    "regr3.fit(X, y.ravel())\n",
    "training3_score3 = regr3.score(X_train, y_train.ravel())\n",
    "testing3_score3 = regr3.score(X_test, y_test.ravel())\n",
    "\n",
    "### END SOLUTION \n",
    "\n",
    "print(f\"Training Score: {training3_score3}\")\n",
    "print(f\"Testing Score: {testing3_score3}\")\n",
    "\n",
    "predictionsrf3 = regr3.predict(X_test)\n",
    "MSE3 = mean_squared_error(y_test.ravel(), predictionsrf3)\n",
    "r23 = regr3.score(X_test, y_test.ravel())\n",
    "print(f\"MSE: {MSE3}, R2: {r23}\")"
   ]
  },
  {
   "cell_type": "code",
   "execution_count": null,
   "metadata": {},
   "outputs": [],
   "source": [
    "from sklearn.ensemble import RandomForestRegressor\n",
    "\n",
    "regr = RandomForestRegressor(max_depth=7, random_state=0, n_estimators=200)\n",
    "regr.fit(X, y.ravel())\n",
    "training_score3 = regr.score(X_train, y_train)\n",
    "testing_score3 = regr.score(X_test, y_test)\n",
    "\n",
    "### END SOLUTION \n",
    "\n",
    "print(f\"Training Score: {training_score3}\")\n",
    "print(f\"Testing Score: {testing_score3}\")"
   ]
  },
  {
   "cell_type": "code",
   "execution_count": 69,
   "metadata": {},
   "outputs": [
    {
     "name": "stdout",
     "output_type": "stream",
     "text": [
      "Training Score: 0.973823349929246\n",
      "Testing Score: 0.9764373706151016\n"
     ]
    }
   ],
   "source": [
    "from sklearn.ensemble import RandomForestRegressor\n",
    "\n",
    "regr = RandomForestRegressor(max_depth=11, random_state=0, n_estimators=200)\n",
    "regr.fit(X, y.ravel())\n",
    "training_score3 = regr.score(X_train, y_train.ravel())\n",
    "testing_score3 = regr.score(X_test, y_test.ravel())\n",
    "\n",
    "### END SOLUTION \n",
    "\n",
    "print(f\"Training Score: {training_score3}\")\n",
    "print(f\"Testing Score: {testing_score3}\")"
   ]
  },
  {
   "cell_type": "code",
   "execution_count": 70,
   "metadata": {},
   "outputs": [
    {
     "name": "stdout",
     "output_type": "stream",
     "text": [
      "MSE: 83.13841339309366, R2: 0.9764373706151016\n"
     ]
    }
   ],
   "source": [
    "predictionsrf = regr.predict(X_test)\n",
    "MSE = mean_squared_error(y_test.ravel(), predictionsrf)\n",
    "r2 = regr.score(X_test, y_test.ravel())\n",
    "\n",
    "print(f\"MSE: {MSE}, R2: {r2}\")"
   ]
  },
  {
   "cell_type": "code",
   "execution_count": 71,
   "metadata": {},
   "outputs": [
    {
     "name": "stdout",
     "output_type": "stream",
     "text": [
      "Training Score: 0.9801091900314491\n",
      "Testing Score: 0.9822999402316176\n"
     ]
    }
   ],
   "source": [
    "from sklearn.ensemble import RandomForestRegressor\n",
    "\n",
    "regr = RandomForestRegressor(max_depth=15, random_state=0, n_estimators=500)\n",
    "regr.fit(X, y.ravel())\n",
    "training_score3 = regr.score(X_train, y_train.ravel())\n",
    "testing_score3 = regr.score(X_test, y_test.ravel())\n",
    "\n",
    "### END SOLUTION \n",
    "\n",
    "print(f\"Training Score: {training_score3}\")\n",
    "print(f\"Testing Score: {testing_score3}\")"
   ]
  },
  {
   "cell_type": "code",
   "execution_count": 72,
   "metadata": {},
   "outputs": [
    {
     "name": "stdout",
     "output_type": "stream",
     "text": [
      "MSE: 62.45291482831627, R2: 0.9822999402316176\n"
     ]
    }
   ],
   "source": [
    "predictionsrf = regr.predict(X_test)\n",
    "MSE = mean_squared_error(y_test.ravel(), predictionsrf)\n",
    "r2 = regr.score(X_test, y_test.ravel())\n",
    "\n",
    "print(f\"MSE: {MSE}, R2: {r2}\")"
   ]
  },
  {
   "cell_type": "code",
   "execution_count": 73,
   "metadata": {},
   "outputs": [
    {
     "data": {
      "image/png": "[encoded data removed]",
      "text/plain": [
       "<Figure size 432x288 with 1 Axes>"
      ]
     },
     "metadata": {
      "needs_background": "light"
     },
     "output_type": "display_data"
    }
   ],
   "source": [
    "plt.scatter(regr.predict(X_train), regr.predict(X_train) - y_train.ravel(), c=\"blue\", label=\"Training Data\")\n",
    "plt.scatter(regr.predict(X_test), regr.predict(X_test) - y_test.ravel(), c=\"orange\", label=\"Testing Data\")\n",
    "plt.legend()\n",
    "plt.hlines(y=0, xmin=y_test.ravel().min(), xmax=y_test.ravel().max())\n",
    "plt.title(\"Residual Plot\")\n",
    "plt.show()"
   ]
  },
  {
   "cell_type": "code",
   "execution_count": null,
   "metadata": {},
   "outputs": [],
   "source": [
    "regr.get_params()"
   ]
  },
  {
   "cell_type": "code",
   "execution_count": null,
   "metadata": {},
   "outputs": [],
   "source": [
    "importances = regr.feature_importances_\n",
    "importances"
   ]
  },
  {
   "cell_type": "code",
   "execution_count": null,
   "metadata": {},
   "outputs": [],
   "source": [
    "# We can sort the features by their importance\n",
    "sorted(zip(regr.feature_importances_, X.columns), reverse=True)"
   ]
  },
  {
   "cell_type": "code",
   "execution_count": null,
   "metadata": {},
   "outputs": [],
   "source": [
    "predictionsrf.shape"
   ]
  },
  {
   "cell_type": "code",
   "execution_count": null,
   "metadata": {},
   "outputs": [],
   "source": [
    "y_test"
   ]
  },
  {
   "cell_type": "code",
   "execution_count": null,
   "metadata": {},
   "outputs": [],
   "source": [
    "y_test.ravel().shape"
   ]
  },
  {
   "cell_type": "code",
   "execution_count": null,
   "metadata": {},
   "outputs": [],
   "source": [
    "predictionsrf - y_test.ravel()"
   ]
  },
  {
   "cell_type": "code",
   "execution_count": null,
   "metadata": {},
   "outputs": [],
   "source": [
    "pr = regr.predict([[1.32,1,0,0,0,0,0,0,0,0,0,0,0,0,0,0,0,0,0,0,0,0,0,0,0,0,0,0,0,0,0,0,0,0,0,0,0,0,0,0,0,0,0,0,1,0,0,0,0,0,0,0,0,1,0,0,0,0,0,0,0,0,0,0,0,0,0,0,0,0]])\n",
    "pr"
   ]
  },
  {
   "cell_type": "code",
   "execution_count": null,
   "metadata": {
    "scrolled": true
   },
   "outputs": [],
   "source": [
    "# df.loc[(df['column_name'] >= A) & (df['column_name'] <= B)]\n",
    "xpr = uber.loc[(uber[\"dist\"] == 1.32) & (uber[\"place_Atlanta High Museum\"] == 1) &\n",
    "                (uber[\"display_name_UberX\"] == 1) & (uber[\"time_08:00\"] == 1)]\n",
    "xpr\n"
   ]
  },
  {
   "cell_type": "code",
   "execution_count": 74,
   "metadata": {},
   "outputs": [
    {
     "data": {
      "text/html": [
       "<div>\n",
       "<style scoped>\n",
       "    .dataframe tbody tr th:only-of-type {\n",
       "        vertical-align: middle;\n",
       "    }\n",
       "\n",
       "    .dataframe tbody tr th {\n",
       "        vertical-align: top;\n",
       "    }\n",
       "\n",
       "    .dataframe thead th {\n",
       "        text-align: right;\n",
       "    }\n",
       "</style>\n",
       "<table border=\"1\" class=\"dataframe\">\n",
       "  <thead>\n",
       "    <tr style=\"text-align: right;\">\n",
       "      <th></th>\n",
       "      <th>place</th>\n",
       "      <th>dist</th>\n",
       "      <th>display_name</th>\n",
       "      <th>avg_estimate</th>\n",
       "      <th>time</th>\n",
       "      <th>autotime</th>\n",
       "      <th>day</th>\n",
       "    </tr>\n",
       "  </thead>\n",
       "  <tbody>\n",
       "    <tr>\n",
       "      <th>0</th>\n",
       "      <td>Centennial Park</td>\n",
       "      <td>1.37</td>\n",
       "      <td>UberPool</td>\n",
       "      <td>7.5</td>\n",
       "      <td>23:00</td>\n",
       "      <td>23:11</td>\n",
       "      <td>Thursday</td>\n",
       "    </tr>\n",
       "    <tr>\n",
       "      <th>1</th>\n",
       "      <td>Centennial Park</td>\n",
       "      <td>1.37</td>\n",
       "      <td>UberX</td>\n",
       "      <td>8.0</td>\n",
       "      <td>23:00</td>\n",
       "      <td>23:11</td>\n",
       "      <td>Thursday</td>\n",
       "    </tr>\n",
       "    <tr>\n",
       "      <th>2</th>\n",
       "      <td>Centennial Park</td>\n",
       "      <td>1.37</td>\n",
       "      <td>UberXL</td>\n",
       "      <td>10.5</td>\n",
       "      <td>23:00</td>\n",
       "      <td>23:11</td>\n",
       "      <td>Thursday</td>\n",
       "    </tr>\n",
       "    <tr>\n",
       "      <th>3</th>\n",
       "      <td>Centennial Park</td>\n",
       "      <td>1.37</td>\n",
       "      <td>Select</td>\n",
       "      <td>13.0</td>\n",
       "      <td>23:00</td>\n",
       "      <td>23:11</td>\n",
       "      <td>Thursday</td>\n",
       "    </tr>\n",
       "    <tr>\n",
       "      <th>4</th>\n",
       "      <td>Centennial Park</td>\n",
       "      <td>1.37</td>\n",
       "      <td>Black</td>\n",
       "      <td>17.0</td>\n",
       "      <td>23:00</td>\n",
       "      <td>23:11</td>\n",
       "      <td>Thursday</td>\n",
       "    </tr>\n",
       "  </tbody>\n",
       "</table>\n",
       "</div>"
      ],
      "text/plain": [
       "             place  dist display_name  avg_estimate   time autotime       day\n",
       "0  Centennial Park  1.37     UberPool           7.5  23:00    23:11  Thursday\n",
       "1  Centennial Park  1.37        UberX           8.0  23:00    23:11  Thursday\n",
       "2  Centennial Park  1.37       UberXL          10.5  23:00    23:11  Thursday\n",
       "3  Centennial Park  1.37       Select          13.0  23:00    23:11  Thursday\n",
       "4  Centennial Park  1.37        Black          17.0  23:00    23:11  Thursday"
      ]
     },
     "execution_count": 74,
     "metadata": {},
     "output_type": "execute_result"
    }
   ],
   "source": [
    "uber_all1 = pd.read_csv('uberPricesNew.csv')\n",
    "uber_all1 = uber_all1.loc[(uber_all1[\"day\"] == \"Thursday\") | (uber_all1[\"day\"] == \"Wednesday\") |\n",
    "                (uber_all1[\"day\"] == \"Monday\") | (uber_all1[\"day\"] == \"Tuesday\")]\n",
    "uber_all1[\"avg_estimate\"] = (uber_all1[\"high_estimate\"] + uber_all1[\"low_estimate\"]) / 2\n",
    "uber_all1 = uber_all1[[\"place\",\"dist\",\"display_name\",\"avg_estimate\",\"time\",\"autotime\",\"day\"]]\n",
    "uber_all1.head()"
   ]
  },
  {
   "cell_type": "code",
   "execution_count": 75,
   "metadata": {},
   "outputs": [
    {
     "data": {
      "text/html": [
       "<div>\n",
       "<style scoped>\n",
       "    .dataframe tbody tr th:only-of-type {\n",
       "        vertical-align: middle;\n",
       "    }\n",
       "\n",
       "    .dataframe tbody tr th {\n",
       "        vertical-align: top;\n",
       "    }\n",
       "\n",
       "    .dataframe thead th {\n",
       "        text-align: right;\n",
       "    }\n",
       "</style>\n",
       "<table border=\"1\" class=\"dataframe\">\n",
       "  <thead>\n",
       "    <tr style=\"text-align: right;\">\n",
       "      <th></th>\n",
       "      <th>place</th>\n",
       "      <th>dist</th>\n",
       "      <th>display_name</th>\n",
       "      <th>avg_estimate</th>\n",
       "      <th>time</th>\n",
       "      <th>autotime</th>\n",
       "      <th>day</th>\n",
       "    </tr>\n",
       "  </thead>\n",
       "  <tbody>\n",
       "    <tr>\n",
       "      <th>177193</th>\n",
       "      <td>Virginia Highlands</td>\n",
       "      <td>1.02</td>\n",
       "      <td>UberX</td>\n",
       "      <td>9.5</td>\n",
       "      <td>17:00</td>\n",
       "      <td>17:04</td>\n",
       "      <td>Tuesday</td>\n",
       "    </tr>\n",
       "    <tr>\n",
       "      <th>177427</th>\n",
       "      <td>Virginia Highlands</td>\n",
       "      <td>1.02</td>\n",
       "      <td>UberX</td>\n",
       "      <td>12.5</td>\n",
       "      <td>17:00</td>\n",
       "      <td>17:09</td>\n",
       "      <td>Tuesday</td>\n",
       "    </tr>\n",
       "    <tr>\n",
       "      <th>177661</th>\n",
       "      <td>Virginia Highlands</td>\n",
       "      <td>1.02</td>\n",
       "      <td>UberX</td>\n",
       "      <td>11.5</td>\n",
       "      <td>17:00</td>\n",
       "      <td>17:13</td>\n",
       "      <td>Tuesday</td>\n",
       "    </tr>\n",
       "    <tr>\n",
       "      <th>177895</th>\n",
       "      <td>Virginia Highlands</td>\n",
       "      <td>1.02</td>\n",
       "      <td>UberX</td>\n",
       "      <td>16.5</td>\n",
       "      <td>17:00</td>\n",
       "      <td>17:18</td>\n",
       "      <td>Tuesday</td>\n",
       "    </tr>\n",
       "    <tr>\n",
       "      <th>178129</th>\n",
       "      <td>Virginia Highlands</td>\n",
       "      <td>1.02</td>\n",
       "      <td>UberX</td>\n",
       "      <td>17.5</td>\n",
       "      <td>17:00</td>\n",
       "      <td>17:23</td>\n",
       "      <td>Tuesday</td>\n",
       "    </tr>\n",
       "    <tr>\n",
       "      <th>178363</th>\n",
       "      <td>Virginia Highlands</td>\n",
       "      <td>1.02</td>\n",
       "      <td>UberX</td>\n",
       "      <td>17.0</td>\n",
       "      <td>17:00</td>\n",
       "      <td>17:28</td>\n",
       "      <td>Tuesday</td>\n",
       "    </tr>\n",
       "    <tr>\n",
       "      <th>178597</th>\n",
       "      <td>Virginia Highlands</td>\n",
       "      <td>1.02</td>\n",
       "      <td>UberX</td>\n",
       "      <td>17.0</td>\n",
       "      <td>17:00</td>\n",
       "      <td>17:34</td>\n",
       "      <td>Tuesday</td>\n",
       "    </tr>\n",
       "    <tr>\n",
       "      <th>178831</th>\n",
       "      <td>Virginia Highlands</td>\n",
       "      <td>1.02</td>\n",
       "      <td>UberX</td>\n",
       "      <td>15.0</td>\n",
       "      <td>17:00</td>\n",
       "      <td>17:39</td>\n",
       "      <td>Tuesday</td>\n",
       "    </tr>\n",
       "    <tr>\n",
       "      <th>179065</th>\n",
       "      <td>Virginia Highlands</td>\n",
       "      <td>1.02</td>\n",
       "      <td>UberX</td>\n",
       "      <td>14.0</td>\n",
       "      <td>17:00</td>\n",
       "      <td>17:44</td>\n",
       "      <td>Tuesday</td>\n",
       "    </tr>\n",
       "    <tr>\n",
       "      <th>179299</th>\n",
       "      <td>Virginia Highlands</td>\n",
       "      <td>1.02</td>\n",
       "      <td>UberX</td>\n",
       "      <td>15.0</td>\n",
       "      <td>17:00</td>\n",
       "      <td>17:49</td>\n",
       "      <td>Tuesday</td>\n",
       "    </tr>\n",
       "    <tr>\n",
       "      <th>179533</th>\n",
       "      <td>Virginia Highlands</td>\n",
       "      <td>1.02</td>\n",
       "      <td>UberX</td>\n",
       "      <td>15.0</td>\n",
       "      <td>17:00</td>\n",
       "      <td>17:55</td>\n",
       "      <td>Tuesday</td>\n",
       "    </tr>\n",
       "  </tbody>\n",
       "</table>\n",
       "</div>"
      ],
      "text/plain": [
       "                     place  dist display_name  avg_estimate   time autotime  \\\n",
       "177193  Virginia Highlands  1.02        UberX           9.5  17:00    17:04   \n",
       "177427  Virginia Highlands  1.02        UberX          12.5  17:00    17:09   \n",
       "177661  Virginia Highlands  1.02        UberX          11.5  17:00    17:13   \n",
       "177895  Virginia Highlands  1.02        UberX          16.5  17:00    17:18   \n",
       "178129  Virginia Highlands  1.02        UberX          17.5  17:00    17:23   \n",
       "178363  Virginia Highlands  1.02        UberX          17.0  17:00    17:28   \n",
       "178597  Virginia Highlands  1.02        UberX          17.0  17:00    17:34   \n",
       "178831  Virginia Highlands  1.02        UberX          15.0  17:00    17:39   \n",
       "179065  Virginia Highlands  1.02        UberX          14.0  17:00    17:44   \n",
       "179299  Virginia Highlands  1.02        UberX          15.0  17:00    17:49   \n",
       "179533  Virginia Highlands  1.02        UberX          15.0  17:00    17:55   \n",
       "\n",
       "            day  \n",
       "177193  Tuesday  \n",
       "177427  Tuesday  \n",
       "177661  Tuesday  \n",
       "177895  Tuesday  \n",
       "178129  Tuesday  \n",
       "178363  Tuesday  \n",
       "178597  Tuesday  \n",
       "178831  Tuesday  \n",
       "179065  Tuesday  \n",
       "179299  Tuesday  \n",
       "179533  Tuesday  "
      ]
     },
     "execution_count": 75,
     "metadata": {},
     "output_type": "execute_result"
    }
   ],
   "source": [
    "xpr1 = uber_all1.loc[(uber_all1[\"place\"] == \"Virginia Highlands\") &\n",
    "                (uber_all1[\"display_name\"] == \"UberX\") & (uber_all1[\"time\"] == \"17:00\")]\n",
    "xpr1"
   ]
  },
  {
   "cell_type": "code",
   "execution_count": null,
   "metadata": {},
   "outputs": [],
   "source": []
  },
  {
   "cell_type": "code",
   "execution_count": null,
   "metadata": {},
   "outputs": [],
   "source": []
  },
  {
   "cell_type": "code",
   "execution_count": null,
   "metadata": {},
   "outputs": [],
   "source": []
  },
  {
   "cell_type": "code",
   "execution_count": null,
   "metadata": {},
   "outputs": [],
   "source": [
    "pd.DataFrame({\"Predicted\": predictionsrf, \"Actual\": y_test.ravel(), \"Error\": predictionsrf - y_test.ravel()})[[\"Predicted\", \"Actual\", \"Error\"]]"
   ]
  },
  {
   "cell_type": "code",
   "execution_count": null,
   "metadata": {},
   "outputs": [],
   "source": []
  }
 ],
 "metadata": {
  "celltoolbar": "Create Assignment",
  "kernelspec": {
   "display_name": "Python 3",
   "language": "python",
   "name": "python3"
  },
  "language_info": {
   "codemirror_mode": {
    "name": "ipython",
    "version": 3
   },
   "file_extension": ".py",
   "mimetype": "text/x-python",
   "name": "python",
   "nbconvert_exporter": "python",
   "pygments_lexer": "ipython3",
   "version": "3.7.1"
  },
  "varInspector": {
   "cols": {
    "lenName": 16,
    "lenType": 16,
    "lenVar": 40
   },
   "kernels_config": {
    "python": {
     "delete_cmd_postfix": "",
     "delete_cmd_prefix": "del ",
     "library": "var_list.py",
     "varRefreshCmd": "print(var_dic_list())"
    },
    "r": {
     "delete_cmd_postfix": ") ",
     "delete_cmd_prefix": "rm(",
     "library": "var_list.r",
     "varRefreshCmd": "cat(var_dic_list()) "
    }
   },
   "types_to_exclude": [
    "module",
    "function",
    "builtin_function_or_method",
    "instance",
    "_Feature"
   ],
   "window_display": false
  }
 },
 "nbformat": 4,
 "nbformat_minor": 2
}
