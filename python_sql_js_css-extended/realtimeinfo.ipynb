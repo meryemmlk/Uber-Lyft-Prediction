{
 "cells": [
  {
   "cell_type": "code",
   "execution_count": 14,
   "metadata": {},
   "outputs": [
    {
     "name": "stdout",
     "output_type": "stream",
     "text": [
      "[{'currency': 'USD', 'ride_type': 'lyft_line', 'display_name': 'Shared', 'primetime_percentage': '0%', 'primetime_confirmation_token': None, 'cost_token': None, 'price_quote_id': 'EM6T+auE5/eSERoYemVybzoxMjM1NjM5MTA1NTYwMTM2MTQy::Cgdjb3VyaWVy', 'price_group_id': 'EM6T+auE5/eSERoYemVybzoxMjM1NjM5MTA1NTYwMTM2MTQy', 'is_scheduled_ride': False, 'is_valid_estimate': True, 'estimated_duration_seconds': 1183, 'estimated_distance_miles': 4.97, 'estimated_cost_cents_min': 400, 'estimated_cost_cents_max': 600, 'can_request_ride': True}, {'currency': 'USD', 'ride_type': 'lyft', 'display_name': 'Lyft', 'primetime_percentage': '0%', 'primetime_confirmation_token': None, 'cost_token': None, 'price_quote_id': 'EM6T+auE5/eSERoYemVybzoxMjM1NjM5MTA1NTYwMTM2MTQy::CghzdGFuZGFyZA==', 'price_group_id': 'EM6T+auE5/eSERoYemVybzoxMjM1NjM5MTA1NTYwMTM2MTQy', 'is_scheduled_ride': False, 'is_valid_estimate': True, 'estimated_duration_seconds': 1183, 'estimated_distance_miles': 4.97, 'estimated_cost_cents_min': 900, 'estimated_cost_cents_max': 1200, 'can_request_ride': True}, {'currency': 'USD', 'ride_type': 'lyft_plus', 'display_name': 'Lyft XL', 'primetime_percentage': '0%', 'primetime_confirmation_token': None, 'cost_token': None, 'price_quote_id': 'EM6T+auE5/eSERoYemVybzoxMjM1NjM5MTA1NTYwMTM2MTQy::CgRwbHVz', 'price_group_id': 'EM6T+auE5/eSERoYemVybzoxMjM1NjM5MTA1NTYwMTM2MTQy', 'is_scheduled_ride': False, 'is_valid_estimate': True, 'estimated_duration_seconds': 1183, 'estimated_distance_miles': 4.97, 'estimated_cost_cents_min': 2000, 'estimated_cost_cents_max': 2500, 'can_request_ride': True}, {'currency': 'USD', 'ride_type': 'lyft_premier', 'display_name': 'Lux', 'primetime_percentage': '0%', 'primetime_confirmation_token': None, 'cost_token': None, 'price_quote_id': 'EM6T+auE5/eSERoYemVybzoxMjM1NjM5MTA1NTYwMTM2MTQy::CgdwcmVtaXVt', 'price_group_id': 'EM6T+auE5/eSERoYemVybzoxMjM1NjM5MTA1NTYwMTM2MTQy', 'is_scheduled_ride': False, 'is_valid_estimate': True, 'estimated_duration_seconds': 1183, 'estimated_distance_miles': 4.97, 'estimated_cost_cents_min': 2000, 'estimated_cost_cents_max': 2500, 'can_request_ride': True}, {'currency': 'USD', 'ride_type': 'lyft_lux', 'display_name': 'Lux Black', 'primetime_percentage': '0%', 'primetime_confirmation_token': None, 'cost_token': None, 'price_quote_id': 'EM6T+auE5/eSERoYemVybzoxMjM1NjM5MTA1NTYwMTM2MTQy::CgNsdXg=', 'price_group_id': 'EM6T+auE5/eSERoYemVybzoxMjM1NjM5MTA1NTYwMTM2MTQy', 'is_scheduled_ride': False, 'is_valid_estimate': True, 'estimated_duration_seconds': 1183, 'estimated_distance_miles': 4.97, 'estimated_cost_cents_min': 3000, 'estimated_cost_cents_max': 3500, 'can_request_ride': True}, {'currency': 'USD', 'ride_type': 'lyft_luxsuv', 'display_name': 'Lux Black XL', 'primetime_percentage': '0%', 'primetime_confirmation_token': None, 'cost_token': None, 'price_quote_id': 'EM6T+auE5/eSERoYemVybzoxMjM1NjM5MTA1NTYwMTM2MTQy::CgZsdXhzdXY=', 'price_group_id': 'EM6T+auE5/eSERoYemVybzoxMjM1NjM5MTA1NTYwMTM2MTQy', 'is_scheduled_ride': False, 'is_valid_estimate': True, 'estimated_duration_seconds': 1183, 'estimated_distance_miles': 4.97, 'estimated_cost_cents_min': 4200, 'estimated_cost_cents_max': 4900, 'can_request_ride': True}]\n",
      "5.0\n",
      "[{'localized_display_name': 'UberPool', 'distance': 4.83, 'display_name': 'UberPool', 'product_id': 'a9bd012e-768b-479d-8f04-9cecbb955fb0', 'high_estimate': 14.0, 'low_estimate': 9.0, 'duration': 1080, 'estimate': '$9-13', 'currency_code': 'USD'}, {'localized_display_name': 'UberX', 'distance': 4.83, 'display_name': 'UberX', 'product_id': '6d898741-0175-4c71-ad5f-93fc66270d6a', 'high_estimate': 13.0, 'low_estimate': 10.0, 'duration': 1080, 'estimate': '$10-13', 'currency_code': 'USD'}, {'localized_display_name': 'UberXL', 'distance': 4.83, 'display_name': 'UberXL', 'product_id': '171a12a5-5b08-40cc-bfb0-416b9256147a', 'high_estimate': 24.0, 'low_estimate': 19.0, 'duration': 1080, 'estimate': '$19-24', 'currency_code': 'USD'}, {'localized_display_name': 'Select', 'distance': 4.83, 'display_name': 'Select', 'product_id': '3d3dff24-c799-45ba-ad08-3d72c5b843b1', 'high_estimate': 29.0, 'low_estimate': 23.0, 'duration': 1080, 'estimate': '$23-29', 'currency_code': 'USD'}, {'localized_display_name': 'Black', 'distance': 4.83, 'display_name': 'Black', 'product_id': 'aff35634-a71e-470f-8c7b-703dec02e15b', 'high_estimate': 38.0, 'low_estimate': 31.0, 'duration': 1080, 'estimate': '$31-38', 'currency_code': 'USD'}, {'localized_display_name': 'Black SUV', 'distance': 4.83, 'display_name': 'Black SUV', 'product_id': '852310f8-a778-4191-bb7b-8c5f9a9899f6', 'high_estimate': 52.0, 'low_estimate': 41.0, 'duration': 1080, 'estimate': '$41-52', 'currency_code': 'USD'}]\n",
      "{'localized_display_name': 'UberPool', 'distance': 4.83, 'display_name': 'UberPool', 'product_id': 'a9bd012e-768b-479d-8f04-9cecbb955fb0', 'high_estimate': 14.0, 'low_estimate': 9.0, 'duration': 1080, 'estimate': '$9-13', 'currency_code': 'USD'}\n",
      "11.5\n"
     ]
    },
    {
     "data": {
      "text/plain": [
       "11.5"
      ]
     },
     "execution_count": 14,
     "metadata": {},
     "output_type": "execute_result"
    }
   ],
   "source": [
    "import os\n",
    "import json\n",
    "from numpy import random\n",
    "import pandas as pd\n",
    "\n",
    "# libraries for UBER API\n",
    "from uber_rides.session import Session\n",
    "from uber_rides.client import UberRidesClient\n",
    "\n",
    "# libraries for take the capture date\n",
    "import time\n",
    "from datetime import datetime, timedelta\n",
    "# libraries for capture data each 4 min\n",
    "import threading\n",
    "import requests\n",
    "\n",
    "\n",
    "\n",
    "\n",
    "places = [\n",
    "  { \"name\": \"Centennial Park\",\n",
    "  \"location\": [33.7603474,-84.3957012]},\n",
    "  { \"name\": \"Buckhead Bars\",\n",
    "  \"location\": [33.8439849,-84.3789694]},\n",
    "  { \"name\": \"Inman Park\",\n",
    "  \"location\": [33.7613676,-84.3623401]},\n",
    "  { \"name\": \"Stone Mountain\",\n",
    "  \"location\": [33.8053189,-84.1477255]},\n",
    "  { \"name\": \"Six Flags\",\n",
    "  \"location\": [33.7706408,-84.5537186]},\n",
    "  { \"name\": \"Statefarm Arena\",\n",
    " \"location\": [33.7572891,-84.3963244]},\n",
    " { \"name\": \"Zoo Atlanta\",\n",
    " \"location\": [33.7327032,-84.3846396]},\n",
    " { \"name\": \"Atlanta High Museum\",\n",
    " \"location\": [33.7900632,-84.3877407]},\n",
    " { \"name\": \"Fox Theater\",\n",
    " \"location\": [33.7724591,-84.3879697]},\n",
    " { \"name\": \"Virginia Highlands\",\n",
    " \"location\": [33.7795027,-84.3757217]},\n",
    " { \"name\": \"Shops at Buckhead\",\n",
    " \"location\": [33.838031,-84.3821468]},\n",
    " { \"name\": \"Emory University\",\n",
    " \"location\": [33.7925239,-84.3261929]},\n",
    " { \"name\": \"Georgia State University\",\n",
    " \"location\": [33.7530724,-84.3874759]},\n",
    " { \"name\": \"Spelman College\",\n",
    " \"location\": [33.7463641,-84.4144874]},\n",
    " { \"name\": \"Edgewood Bars\",\n",
    " \"location\": [33.7544814,-84.3745674]},\n",
    "  {\"name\": \"Hartsfield Jackson Airport\",\n",
    "  \"location\": [33.6407282,-84.4277001]},\n",
    "   {\"name\":\"SunTrust Park\",\n",
    "   \"location\":[33.8908211,-84.4678309]},\n",
    "   {\"name\":\"Mercedes Benz Stadium\",\n",
    "   \"location\":[33.7554483,-84.400855]},\n",
    "   {\"name\":\"Lenox Square Mall\",\n",
    "    \"location\":[33.8462925,-84.3621419]},\n",
    "   {\"name\":\"Piedmont Park\",\n",
    "   \"location\":[33.7850856,-84.373803]}]\n",
    "\n",
    "\n",
    "\n",
    "\n",
    "from uber_rides.session import Session\n",
    "ubersession = Session(server_token=\"TZ9aAN7GMzp49djfXoMil2HJ7XxCs0Zwo8EWXd88\")\n",
    "\n",
    "from uber_rides.client import UberRidesClient\n",
    "client = UberRidesClient(ubersession)\n",
    "\n",
    "dest = \"Emory University\"\n",
    "ptype1 = \"Shared\"\n",
    "ptype2 = \"UberPool\"\n",
    "\n",
    "def realtime_lyft_results(dest,ptype):\n",
    "    for place in places:\n",
    "        if place[\"name\"] == dest:\n",
    "            lat = place[\"location\"][0]\n",
    "            lon = place[\"location\"][1]\n",
    "            \n",
    "    url=\"https://api.lyft.com/v1/cost?start_lat=33.7762&start_lng=-84.3895&end_lat=\" +str(lat)+ \"&end_lng=\"+str(lon)\n",
    "    estimates = requests.get(url).json()[\"cost_estimates\"]\n",
    "    print(estimates)\n",
    "    for estimate in estimates:\n",
    "        if estimate[\"display_name\"] == ptype:\n",
    "            low = (estimate[\"estimated_cost_cents_min\"])//100\n",
    "            high = (estimate[\"estimated_cost_cents_max\"])//100\n",
    "            avg = (low + high) / 2\n",
    "            return avg\n",
    "        \n",
    "def realtime_uber_results(dest,ptype):\n",
    "    for place in places:\n",
    "        if place[\"name\"] == dest:\n",
    "            lat = place[\"location\"][0]\n",
    "            lon = place[\"location\"][1]\n",
    "            \n",
    "    response = client.get_price_estimates(\n",
    "            start_latitude=33.7762,\n",
    "            start_longitude=-84.3895,\n",
    "            end_latitude=lat,\n",
    "            end_longitude=lon\n",
    "        )\n",
    "            \n",
    "    estimates = response.json.get('prices')\n",
    "    print(estimates)\n",
    "    for estimate in estimates:\n",
    "        if estimate[\"display_name\"] == ptype:\n",
    "            print(estimate)\n",
    "            low = (estimate[\"low_estimate\"])\n",
    "            high = (estimate[\"high_estimate\"])\n",
    "            avg = (low + high) / 2\n",
    "            print(avg)\n",
    "            return avg\n",
    "    \n",
    "\n",
    "lyft_estimate = realtime_lyft_results(dest,ptype1)\n",
    "print(lyft_estimate)\n",
    "uber_estimate = realtime_uber_results(dest,ptype2)"
   ]
  },
  {
   "cell_type": "code",
   "execution_count": 17,
   "metadata": {},
   "outputs": [],
   "source": []
  },
  {
   "cell_type": "code",
   "execution_count": 18,
   "metadata": {},
   "outputs": [],
   "source": [
    "\n"
   ]
  },
  {
   "cell_type": "code",
   "execution_count": null,
   "metadata": {},
   "outputs": [],
   "source": []
  },
  {
   "cell_type": "code",
   "execution_count": null,
   "metadata": {},
   "outputs": [],
   "source": [
    "\n"
   ]
  },
  {
   "cell_type": "code",
   "execution_count": null,
   "metadata": {},
   "outputs": [],
   "source": []
  },
  {
   "cell_type": "code",
   "execution_count": 19,
   "metadata": {},
   "outputs": [],
   "source": [
    "\n",
    "\n"
   ]
  },
  {
   "cell_type": "code",
   "execution_count": 20,
   "metadata": {},
   "outputs": [
    {
     "data": {
      "text/plain": [
       "20"
      ]
     },
     "execution_count": 20,
     "metadata": {},
     "output_type": "execute_result"
    }
   ],
   "source": []
  },
  {
   "cell_type": "code",
   "execution_count": 21,
   "metadata": {},
   "outputs": [],
   "source": [
    "# requests.get(url).json()[\"cost_estimates\"]"
   ]
  },
  {
   "cell_type": "code",
   "execution_count": 22,
   "metadata": {},
   "outputs": [],
   "source": [
    "\n"
   ]
  },
  {
   "cell_type": "code",
   "execution_count": 1,
   "metadata": {},
   "outputs": [],
   "source": [
    "# Base.metadata.tables"
   ]
  },
  {
   "cell_type": "code",
   "execution_count": 24,
   "metadata": {},
   "outputs": [],
   "source": [
    "\n"
   ]
  },
  {
   "cell_type": "code",
   "execution_count": 25,
   "metadata": {},
   "outputs": [],
   "source": [
    "\n",
    "        \n",
    "\n"
   ]
  },
  {
   "cell_type": "code",
   "execution_count": 26,
   "metadata": {},
   "outputs": [],
   "source": []
  },
  {
   "cell_type": "code",
   "execution_count": null,
   "metadata": {},
   "outputs": [],
   "source": []
  }
 ],
 "metadata": {
  "kernelspec": {
   "display_name": "Python 3",
   "language": "python",
   "name": "python3"
  },
  "language_info": {
   "codemirror_mode": {
    "name": "ipython",
    "version": 3
   },
   "file_extension": ".py",
   "mimetype": "text/x-python",
   "name": "python",
   "nbconvert_exporter": "python",
   "pygments_lexer": "ipython3",
   "version": "3.7.1"
  }
 },
 "nbformat": 4,
 "nbformat_minor": 2
}
