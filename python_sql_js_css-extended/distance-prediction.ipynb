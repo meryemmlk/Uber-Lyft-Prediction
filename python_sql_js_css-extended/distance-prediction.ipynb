{
 "cells": [
  {
   "cell_type": "code",
   "execution_count": 1,
   "metadata": {},
   "outputs": [],
   "source": [
    "import matplotlib.pyplot as plt\n",
    "import numpy as np\n",
    "import pandas as pd"
   ]
  },
  {
   "cell_type": "markdown",
   "metadata": {},
   "source": [
    "### Distance prediction - Uber"
   ]
  },
  {
   "cell_type": "code",
   "execution_count": 2,
   "metadata": {
    "scrolled": true
   },
   "outputs": [
    {
     "data": {
      "text/html": [
       "<div>\n",
       "<style scoped>\n",
       "    .dataframe tbody tr th:only-of-type {\n",
       "        vertical-align: middle;\n",
       "    }\n",
       "\n",
       "    .dataframe tbody tr th {\n",
       "        vertical-align: top;\n",
       "    }\n",
       "\n",
       "    .dataframe thead th {\n",
       "        text-align: right;\n",
       "    }\n",
       "</style>\n",
       "<table border=\"1\" class=\"dataframe\">\n",
       "  <thead>\n",
       "    <tr style=\"text-align: right;\">\n",
       "      <th></th>\n",
       "      <th>place</th>\n",
       "      <th>dist</th>\n",
       "      <th>time</th>\n",
       "    </tr>\n",
       "  </thead>\n",
       "  <tbody>\n",
       "    <tr>\n",
       "      <th>0</th>\n",
       "      <td>Centennial Park</td>\n",
       "      <td>1.37</td>\n",
       "      <td>23:00</td>\n",
       "    </tr>\n",
       "    <tr>\n",
       "      <th>1</th>\n",
       "      <td>Centennial Park</td>\n",
       "      <td>1.37</td>\n",
       "      <td>23:00</td>\n",
       "    </tr>\n",
       "    <tr>\n",
       "      <th>2</th>\n",
       "      <td>Centennial Park</td>\n",
       "      <td>1.37</td>\n",
       "      <td>23:00</td>\n",
       "    </tr>\n",
       "    <tr>\n",
       "      <th>3</th>\n",
       "      <td>Centennial Park</td>\n",
       "      <td>1.37</td>\n",
       "      <td>23:00</td>\n",
       "    </tr>\n",
       "    <tr>\n",
       "      <th>4</th>\n",
       "      <td>Centennial Park</td>\n",
       "      <td>1.37</td>\n",
       "      <td>23:00</td>\n",
       "    </tr>\n",
       "  </tbody>\n",
       "</table>\n",
       "</div>"
      ],
      "text/plain": [
       "             place  dist   time\n",
       "0  Centennial Park  1.37  23:00\n",
       "1  Centennial Park  1.37  23:00\n",
       "2  Centennial Park  1.37  23:00\n",
       "3  Centennial Park  1.37  23:00\n",
       "4  Centennial Park  1.37  23:00"
      ]
     },
     "execution_count": 2,
     "metadata": {},
     "output_type": "execute_result"
    }
   ],
   "source": [
    "# Read the csv file into a pandas DataFrame\n",
    "uber_dist = pd.read_csv('uberPricesNew.csv')\n",
    "uber_dist = uber_dist[[\"place\",\"dist\",\"time\"]]\n",
    "uber_dist.head()"
   ]
  },
  {
   "cell_type": "code",
   "execution_count": 4,
   "metadata": {},
   "outputs": [
    {
     "data": {
      "text/html": [
       "<div>\n",
       "<style scoped>\n",
       "    .dataframe tbody tr th:only-of-type {\n",
       "        vertical-align: middle;\n",
       "    }\n",
       "\n",
       "    .dataframe tbody tr th {\n",
       "        vertical-align: top;\n",
       "    }\n",
       "\n",
       "    .dataframe thead th {\n",
       "        text-align: right;\n",
       "    }\n",
       "</style>\n",
       "<table border=\"1\" class=\"dataframe\">\n",
       "  <thead>\n",
       "    <tr style=\"text-align: right;\">\n",
       "      <th></th>\n",
       "      <th>place</th>\n",
       "      <th>dist</th>\n",
       "      <th>time</th>\n",
       "    </tr>\n",
       "  </thead>\n",
       "  <tbody>\n",
       "    <tr>\n",
       "      <th>0</th>\n",
       "      <td>Centennial Park</td>\n",
       "      <td>1.71</td>\n",
       "      <td>23:00</td>\n",
       "    </tr>\n",
       "    <tr>\n",
       "      <th>1</th>\n",
       "      <td>Centennial Park</td>\n",
       "      <td>1.71</td>\n",
       "      <td>23:00</td>\n",
       "    </tr>\n",
       "    <tr>\n",
       "      <th>2</th>\n",
       "      <td>Centennial Park</td>\n",
       "      <td>1.71</td>\n",
       "      <td>23:00</td>\n",
       "    </tr>\n",
       "    <tr>\n",
       "      <th>3</th>\n",
       "      <td>Centennial Park</td>\n",
       "      <td>1.71</td>\n",
       "      <td>23:00</td>\n",
       "    </tr>\n",
       "    <tr>\n",
       "      <th>4</th>\n",
       "      <td>Centennial Park</td>\n",
       "      <td>1.71</td>\n",
       "      <td>23:00</td>\n",
       "    </tr>\n",
       "  </tbody>\n",
       "</table>\n",
       "</div>"
      ],
      "text/plain": [
       "             place  dist   time\n",
       "0  Centennial Park  1.71  23:00\n",
       "1  Centennial Park  1.71  23:00\n",
       "2  Centennial Park  1.71  23:00\n",
       "3  Centennial Park  1.71  23:00\n",
       "4  Centennial Park  1.71  23:00"
      ]
     },
     "execution_count": 4,
     "metadata": {},
     "output_type": "execute_result"
    }
   ],
   "source": [
    "lyft_dist = pd.read_csv('lyftPricesNew.csv')\n",
    "lyft_dist= lyft_dist[[\"place\",\"dist\",\"time\"]]\n",
    "lyft_dist.head()"
   ]
  },
  {
   "cell_type": "markdown",
   "metadata": {},
   "source": [
    "## Distance Prediction with Linear Regression"
   ]
  },
  {
   "cell_type": "code",
   "execution_count": 5,
   "metadata": {},
   "outputs": [],
   "source": [
    "uber_dist = pd.get_dummies(uber_dist)"
   ]
  },
  {
   "cell_type": "code",
   "execution_count": 6,
   "metadata": {},
   "outputs": [
    {
     "data": {
      "text/plain": [
       "Index(['dist', 'place_Atlanta High Museum', 'place_Bartow',\n",
       "       'place_Buckhead Bars', 'place_Butts', 'place_Centennial Park',\n",
       "       'place_Cherokee', 'place_Clayton', 'place_Cobb', 'place_Coweta',\n",
       "       'place_Dekalb', 'place_Douglas', 'place_Edgewood Bars',\n",
       "       'place_Emory University', 'place_Fayette', 'place_Forsyth',\n",
       "       'place_Fox Theater', 'place_Fulton', 'place_Georgia State University',\n",
       "       'place_Gwinett', 'place_Hall', 'place_Hartsfield Jackson Airport',\n",
       "       'place_Henry', 'place_Inman Park', 'place_Lenox Square Mall',\n",
       "       'place_Mercedes Benz Stadium', 'place_Newton', 'place_Paulding',\n",
       "       'place_Piedmont Park', 'place_Rockdale', 'place_Shops at Buckhead',\n",
       "       'place_Six Flags', 'place_Spalding', 'place_Spelman College',\n",
       "       'place_Statefarm Arena', 'place_Stone Mountain', 'place_SunTrust Park',\n",
       "       'place_Virginia Highlands', 'place_Walton', 'place_Zoo Atlanta',\n",
       "       'time_00:00', 'time_01:00', 'time_02:00', 'time_03:00', 'time_04:00',\n",
       "       'time_05:00', 'time_06:00', 'time_07:00', 'time_08:00', 'time_09:00',\n",
       "       'time_10:00', 'time_11:00', 'time_12:00', 'time_13:00', 'time_14:00',\n",
       "       'time_15:00', 'time_16:00', 'time_17:00', 'time_18:00', 'time_19:00',\n",
       "       'time_20:00', 'time_21:00', 'time_22:00', 'time_23:00'],\n",
       "      dtype='object')"
      ]
     },
     "execution_count": 6,
     "metadata": {},
     "output_type": "execute_result"
    }
   ],
   "source": [
    "uber_dist.columns"
   ]
  },
  {
   "cell_type": "code",
   "execution_count": 12,
   "metadata": {},
   "outputs": [],
   "source": [
    "Xdu = uber_dist[['place_Atlanta High Museum', 'place_Bartow',\n",
    "       'place_Buckhead Bars', 'place_Butts', 'place_Centennial Park',\n",
    "       'place_Cherokee', 'place_Clayton', 'place_Cobb', 'place_Coweta',\n",
    "       'place_Dekalb', 'place_Douglas', 'place_Edgewood Bars',\n",
    "       'place_Emory University', 'place_Fayette', 'place_Forsyth',\n",
    "       'place_Fox Theater', 'place_Fulton', 'place_Georgia State University',\n",
    "       'place_Gwinett', 'place_Hall', 'place_Hartsfield Jackson Airport',\n",
    "       'place_Henry', 'place_Inman Park', 'place_Lenox Square Mall',\n",
    "       'place_Mercedes Benz Stadium', 'place_Newton', 'place_Paulding',\n",
    "       'place_Piedmont Park', 'place_Rockdale', 'place_Shops at Buckhead',\n",
    "       'place_Six Flags', 'place_Spalding', 'place_Spelman College',\n",
    "       'place_Statefarm Arena', 'place_Stone Mountain', 'place_SunTrust Park',\n",
    "       'place_Virginia Highlands', 'place_Walton', 'place_Zoo Atlanta',\n",
    "       'time_00:00', 'time_01:00', 'time_02:00', 'time_03:00', 'time_04:00',\n",
    "       'time_05:00', 'time_06:00', 'time_07:00', 'time_08:00', 'time_09:00',\n",
    "       'time_10:00', 'time_11:00', 'time_12:00', 'time_13:00', 'time_14:00',\n",
    "       'time_15:00', 'time_16:00', 'time_17:00', 'time_18:00', 'time_19:00',\n",
    "       'time_20:00', 'time_21:00', 'time_22:00', 'time_23:00']]"
   ]
  },
  {
   "cell_type": "code",
   "execution_count": 13,
   "metadata": {},
   "outputs": [
    {
     "data": {
      "text/plain": [
       "(78390, 64)"
      ]
     },
     "execution_count": 13,
     "metadata": {},
     "output_type": "execute_result"
    }
   ],
   "source": [
    "uber_dist.shape"
   ]
  },
  {
   "cell_type": "code",
   "execution_count": 14,
   "metadata": {},
   "outputs": [
    {
     "name": "stdout",
     "output_type": "stream",
     "text": [
      "(78390, 63) (78390, 1)\n"
     ]
    }
   ],
   "source": [
    "ydu = uber_dist[\"dist\"].values.reshape(-1, 1)\n",
    "print(Xdu.shape, ydu.shape)"
   ]
  },
  {
   "cell_type": "code",
   "execution_count": 15,
   "metadata": {},
   "outputs": [],
   "source": [
    "lyft_dist = pd.get_dummies(lyft_dist)"
   ]
  },
  {
   "cell_type": "code",
   "execution_count": 16,
   "metadata": {},
   "outputs": [
    {
     "data": {
      "text/plain": [
       "Index(['dist', 'place_Atlanta High Museum', 'place_Bartow',\n",
       "       'place_Buckhead Bars', 'place_Butts', 'place_Centennial Park',\n",
       "       'place_Cherokee', 'place_Clayton', 'place_Cobb', 'place_Coweta',\n",
       "       'place_Dekalb', 'place_Douglas', 'place_Edgewood Bars',\n",
       "       'place_Emory University', 'place_Fayette', 'place_Forsyth',\n",
       "       'place_Fox Theater', 'place_Fulton', 'place_Georgia State University',\n",
       "       'place_Gwinett', 'place_Hall', 'place_Hartsfield Jackson Airport',\n",
       "       'place_Henry', 'place_Inman Park', 'place_Lenox Square Mall',\n",
       "       'place_Mercedes Benz Stadium', 'place_Newton', 'place_Paulding',\n",
       "       'place_Piedmont Park', 'place_Rockdale', 'place_Shops at Buckhead',\n",
       "       'place_Six Flags', 'place_Spalding', 'place_Spelman College',\n",
       "       'place_Statefarm Arena', 'place_Stone Mountain', 'place_SunTrust Park',\n",
       "       'place_Virginia Highlands', 'place_Walton', 'place_Zoo Atlanta',\n",
       "       'time_00:00', 'time_01:00', 'time_02:00', 'time_03:00', 'time_04:00',\n",
       "       'time_05:00', 'time_06:00', 'time_07:00', 'time_08:00', 'time_09:00',\n",
       "       'time_10:00', 'time_11:00', 'time_12:00', 'time_13:00', 'time_14:00',\n",
       "       'time_15:00', 'time_16:00', 'time_17:00', 'time_18:00', 'time_19:00',\n",
       "       'time_20:00', 'time_21:00', 'time_22:00', 'time_23:00'],\n",
       "      dtype='object')"
      ]
     },
     "execution_count": 16,
     "metadata": {},
     "output_type": "execute_result"
    }
   ],
   "source": [
    "lyft_dist.columns"
   ]
  },
  {
   "cell_type": "code",
   "execution_count": 17,
   "metadata": {},
   "outputs": [],
   "source": [
    "Xdl = lyft_dist[['place_Atlanta High Museum', 'place_Bartow',\n",
    "       'place_Buckhead Bars', 'place_Butts', 'place_Centennial Park',\n",
    "       'place_Cherokee', 'place_Clayton', 'place_Cobb', 'place_Coweta',\n",
    "       'place_Dekalb', 'place_Douglas', 'place_Edgewood Bars',\n",
    "       'place_Emory University', 'place_Fayette', 'place_Forsyth',\n",
    "       'place_Fox Theater', 'place_Fulton', 'place_Georgia State University',\n",
    "       'place_Gwinett', 'place_Hall', 'place_Hartsfield Jackson Airport',\n",
    "       'place_Henry', 'place_Inman Park', 'place_Lenox Square Mall',\n",
    "       'place_Mercedes Benz Stadium', 'place_Newton', 'place_Paulding',\n",
    "       'place_Piedmont Park', 'place_Rockdale', 'place_Shops at Buckhead',\n",
    "       'place_Six Flags', 'place_Spalding', 'place_Spelman College',\n",
    "       'place_Statefarm Arena', 'place_Stone Mountain', 'place_SunTrust Park',\n",
    "       'place_Virginia Highlands', 'place_Walton', 'place_Zoo Atlanta',\n",
    "       'time_00:00', 'time_01:00', 'time_02:00', 'time_03:00', 'time_04:00',\n",
    "       'time_05:00', 'time_06:00', 'time_07:00', 'time_08:00', 'time_09:00',\n",
    "       'time_10:00', 'time_11:00', 'time_12:00', 'time_13:00', 'time_14:00',\n",
    "       'time_15:00', 'time_16:00', 'time_17:00', 'time_18:00', 'time_19:00',\n",
    "       'time_20:00', 'time_21:00', 'time_22:00', 'time_23:00']]"
   ]
  },
  {
   "cell_type": "code",
   "execution_count": 18,
   "metadata": {},
   "outputs": [
    {
     "data": {
      "text/plain": [
       "(73466, 64)"
      ]
     },
     "execution_count": 18,
     "metadata": {},
     "output_type": "execute_result"
    }
   ],
   "source": [
    "lyft_dist.shape"
   ]
  },
  {
   "cell_type": "code",
   "execution_count": 19,
   "metadata": {},
   "outputs": [
    {
     "name": "stdout",
     "output_type": "stream",
     "text": [
      "(73466, 63) (73466, 1)\n"
     ]
    }
   ],
   "source": [
    "ydl = lyft_dist[\"dist\"].values.reshape(-1, 1)\n",
    "print(Xdl.shape, ydl.shape)"
   ]
  },
  {
   "cell_type": "code",
   "execution_count": null,
   "metadata": {},
   "outputs": [],
   "source": []
  },
  {
   "cell_type": "markdown",
   "metadata": {},
   "source": [
    "### Linear regression Uber"
   ]
  },
  {
   "cell_type": "code",
   "execution_count": 20,
   "metadata": {},
   "outputs": [],
   "source": [
    "from sklearn.model_selection import train_test_split\n",
    "\n",
    "Xdu_train, Xdu_test, ydu_train, ydu_test = train_test_split(Xdu, ydu, random_state=42)"
   ]
  },
  {
   "cell_type": "code",
   "execution_count": 21,
   "metadata": {},
   "outputs": [
    {
     "data": {
      "text/plain": [
       "LinearRegression(copy_X=True, fit_intercept=True, n_jobs=None,\n",
       "         normalize=False)"
      ]
     },
     "execution_count": 21,
     "metadata": {},
     "output_type": "execute_result"
    }
   ],
   "source": [
    "from sklearn.linear_model import LinearRegression\n",
    "modeldu = LinearRegression()\n",
    "modeldu.fit(Xdu_train, ydu_train)"
   ]
  },
  {
   "cell_type": "code",
   "execution_count": 22,
   "metadata": {},
   "outputs": [
    {
     "name": "stdout",
     "output_type": "stream",
     "text": [
      "Training Score: 0.9968660670564958\n",
      "Testing Score: 0.9968428254165403\n"
     ]
    }
   ],
   "source": [
    "training_score = modeldu.score(Xdu_train, ydu_train)\n",
    "testing_score = modeldu.score(Xdu_test, ydu_test)\n",
    "\n",
    "print(f\"Training Score: {training_score}\")\n",
    "print(f\"Testing Score: {testing_score}\")"
   ]
  },
  {
   "cell_type": "code",
   "execution_count": 23,
   "metadata": {},
   "outputs": [
    {
     "data": {
      "image/png": "[encoded data removed]",
      "text/plain": [
       "<Figure size 432x288 with 1 Axes>"
      ]
     },
     "metadata": {
      "needs_background": "light"
     },
     "output_type": "display_data"
    }
   ],
   "source": [
    "plt.scatter(modeldu.predict(Xdu_train), modeldu.predict(Xdu_train) - ydu_train, c=\"blue\", label=\"Training Data\")\n",
    "plt.scatter(modeldu.predict(Xdu_test), modeldu.predict(Xdu_test) - ydu_test, c=\"orange\", label=\"Testing Data\")\n",
    "plt.legend()\n",
    "plt.hlines(y=0, xmin=ydu_test.min(), xmax=ydu_test.max())\n",
    "plt.title(\"Residual Plot\")\n",
    "plt.show()"
   ]
  },
  {
   "cell_type": "code",
   "execution_count": 24,
   "metadata": {},
   "outputs": [
    {
     "name": "stdout",
     "output_type": "stream",
     "text": [
      "MSE: 1.1019802370193528, R2: 0.9968428254165403\n"
     ]
    }
   ],
   "source": [
    "from sklearn.metrics import mean_squared_error\n",
    "\n",
    "predictionsdu = modeldu.predict(Xdu_test)\n",
    "MSEdu = mean_squared_error(ydu_test, predictionsdu)\n",
    "r2du = modeldu.score(Xdu_test, ydu_test)\n",
    "\n",
    "print(f\"MSE: {MSEdu}, R2: {r2du}\")"
   ]
  },
  {
   "cell_type": "code",
   "execution_count": 25,
   "metadata": {},
   "outputs": [
    {
     "data": {
      "text/plain": [
       "array([[-0.55515747],\n",
       "       [ 0.98563599],\n",
       "       [ 0.54069824],\n",
       "       ...,\n",
       "       [-1.49605347],\n",
       "       [-0.11980835],\n",
       "       [ 0.26485352]])"
      ]
     },
     "execution_count": 25,
     "metadata": {},
     "output_type": "execute_result"
    }
   ],
   "source": [
    "predictionsdu-ydu_test"
   ]
  },
  {
   "cell_type": "code",
   "execution_count": null,
   "metadata": {},
   "outputs": [],
   "source": []
  },
  {
   "cell_type": "code",
   "execution_count": null,
   "metadata": {},
   "outputs": [],
   "source": []
  },
  {
   "cell_type": "markdown",
   "metadata": {},
   "source": [
    "### Linear regression Lyft"
   ]
  },
  {
   "cell_type": "code",
   "execution_count": 26,
   "metadata": {},
   "outputs": [
    {
     "data": {
      "text/plain": [
       "LinearRegression(copy_X=True, fit_intercept=True, n_jobs=None,\n",
       "         normalize=False)"
      ]
     },
     "execution_count": 26,
     "metadata": {},
     "output_type": "execute_result"
    }
   ],
   "source": [
    "from sklearn.model_selection import train_test_split\n",
    "\n",
    "Xdl_train, Xdl_test, ydl_train, ydl_test = train_test_split(Xdl, ydl, random_state=42)\n",
    "from sklearn.linear_model import LinearRegression\n",
    "modeldl = LinearRegression()\n",
    "modeldl.fit(Xdl_train, ydl_train)"
   ]
  },
  {
   "cell_type": "code",
   "execution_count": 27,
   "metadata": {},
   "outputs": [
    {
     "name": "stdout",
     "output_type": "stream",
     "text": [
      "Training Score: 0.9975648489130104\n",
      "Testing Score: 0.9975982430315888\n"
     ]
    }
   ],
   "source": [
    "training_score = modeldl.score(Xdl_train, ydl_train)\n",
    "testing_score = modeldl.score(Xdl_test, ydl_test)\n",
    "\n",
    "print(f\"Training Score: {training_score}\")\n",
    "print(f\"Testing Score: {testing_score}\")"
   ]
  },
  {
   "cell_type": "code",
   "execution_count": 28,
   "metadata": {},
   "outputs": [
    {
     "data": {
      "image/png": "[encoded data removed]",
      "text/plain": [
       "<Figure size 432x288 with 1 Axes>"
      ]
     },
     "metadata": {
      "needs_background": "light"
     },
     "output_type": "display_data"
    }
   ],
   "source": [
    "plt.scatter(modeldl.predict(Xdl_train), modeldl.predict(Xdl_train) - ydl_train, c=\"blue\", label=\"Training Data\")\n",
    "plt.scatter(modeldl.predict(Xdl_test), modeldl.predict(Xdl_test) - ydl_test, c=\"orange\", label=\"Testing Data\")\n",
    "plt.legend()\n",
    "plt.hlines(y=0, xmin=ydl_test.min(), xmax=ydl_test.max())\n",
    "plt.title(\"Residual Plot\")\n",
    "plt.show()"
   ]
  },
  {
   "cell_type": "code",
   "execution_count": 29,
   "metadata": {},
   "outputs": [
    {
     "name": "stdout",
     "output_type": "stream",
     "text": [
      "MSE: 1.1019802370193528, R2: 0.9968428254165403\n"
     ]
    }
   ],
   "source": [
    "from sklearn.metrics import mean_squared_error\n",
    "\n",
    "predictionsdl = modeldl.predict(Xdl_test)\n",
    "MSEdl = mean_squared_error(ydl_test, predictionsdl)\n",
    "r2dl = modeldl.score(Xdl_test, ydl_test)\n",
    "\n",
    "print(f\"MSE: {MSEdu}, R2: {r2du}\")"
   ]
  },
  {
   "cell_type": "code",
   "execution_count": null,
   "metadata": {},
   "outputs": [],
   "source": []
  },
  {
   "cell_type": "markdown",
   "metadata": {},
   "source": [
    "### LassoLars"
   ]
  },
  {
   "cell_type": "code",
   "execution_count": 24,
   "metadata": {},
   "outputs": [
    {
     "name": "stdout",
     "output_type": "stream",
     "text": [
      "Training Score: 0.5392717085021502\n",
      "Testing Score: 0.5359924891279142\n"
     ]
    }
   ],
   "source": [
    "from sklearn.linear_model import LassoLars\n",
    "reg = LassoLars(alpha=0.01)\n",
    "reg.fit(Xdu_train, ydu_train)\n",
    "training_score1 = reg.score(Xdu_train, ydu_train)\n",
    "testing_score1 = reg.score(Xdu_test, ydu_test)\n",
    "\n",
    "### END SOLUTION \n",
    "\n",
    "print(f\"Training Score: {training_score1}\")\n",
    "print(f\"Testing Score: {testing_score1}\")"
   ]
  },
  {
   "cell_type": "markdown",
   "metadata": {},
   "source": [
    "### SVR Regression Uber"
   ]
  },
  {
   "cell_type": "markdown",
   "metadata": {},
   "source": [
    "### Random Forest Regressor - Uber"
   ]
  },
  {
   "cell_type": "code",
   "execution_count": 25,
   "metadata": {},
   "outputs": [
    {
     "name": "stderr",
     "output_type": "stream",
     "text": [
      "C:\\Users\\Meryem\\Anaconda3\\envs\\PythonKeras\\lib\\site-packages\\ipykernel_launcher.py:4: DataConversionWarning: A column-vector y was passed when a 1d array was expected. Please change the shape of y to (n_samples,), for example using ravel().\n",
      "  after removing the cwd from sys.path.\n"
     ]
    },
    {
     "name": "stdout",
     "output_type": "stream",
     "text": [
      "Training Score: 0.24702284611940137\n",
      "Testing Score: 0.2474354905258911\n"
     ]
    }
   ],
   "source": [
    "from sklearn.ensemble import RandomForestRegressor\n",
    "\n",
    "regrdu = RandomForestRegressor(max_depth=2, random_state=0, n_estimators=100)\n",
    "regrdu.fit(Xdu, ydu)\n",
    "training_score = regrdu.score(Xdu_train, ydu_train)\n",
    "testing_score = regrdu.score(Xdu_test, ydu_test)\n",
    "\n",
    "### END SOLUTION \n",
    "\n",
    "print(f\"Training Score: {training_score}\")\n",
    "print(f\"Testing Score: {testing_score}\")"
   ]
  },
  {
   "cell_type": "code",
   "execution_count": null,
   "metadata": {},
   "outputs": [],
   "source": [
    "from sklearn.ensemble import RandomForestRegressor\n",
    "\n",
    "regr2 = RandomForestRegressor(max_depth=5, random_state=0, n_estimators=200)\n",
    "regr2.fit(X, y)\n",
    "training_score3 = regr2.score(X_train, y_train)\n",
    "testing_score3 = regr2.score(X_test, y_test)\n",
    "\n",
    "### END SOLUTION \n",
    "\n",
    "print(f\"Training Score: {training_score3}\")\n",
    "print(f\"Testing Score: {testing_score3}\")"
   ]
  },
  {
   "cell_type": "code",
   "execution_count": null,
   "metadata": {},
   "outputs": [],
   "source": [
    "from sklearn.ensemble import RandomForestRegressor\n",
    "\n",
    "regr = RandomForestRegressor(max_depth=7, random_state=0, n_estimators=200)\n",
    "regr.fit(X, y)\n",
    "training_score3 = regr.score(X_train, y_train)\n",
    "testing_score3 = regr.score(X_test, y_test)\n",
    "\n",
    "### END SOLUTION \n",
    "\n",
    "print(f\"Training Score: {training_score3}\")\n",
    "print(f\"Testing Score: {testing_score3}\")"
   ]
  },
  {
   "cell_type": "code",
   "execution_count": 28,
   "metadata": {},
   "outputs": [
    {
     "name": "stdout",
     "output_type": "stream",
     "text": [
      "Training Score: 0.7845013116634844\n",
      "Testing Score: 0.7769188404079481\n"
     ]
    }
   ],
   "source": [
    "from sklearn.ensemble import RandomForestRegressor\n",
    "\n",
    "regrdu = RandomForestRegressor(max_depth=11, random_state=0, n_estimators=1000)\n",
    "regrdu.fit(Xdu, ydu.ravel())\n",
    "training_score3 = regrdu.score(Xdu_train, ydu_train.ravel())\n",
    "testing_score3 = regrdu.score(Xdu_test, ydu_test.ravel())\n",
    "\n",
    "### END SOLUTION \n",
    "\n",
    "print(f\"Training Score: {training_score3}\")\n",
    "print(f\"Testing Score: {testing_score3}\")"
   ]
  },
  {
   "cell_type": "code",
   "execution_count": null,
   "metadata": {},
   "outputs": [],
   "source": [
    "regr.get_params()"
   ]
  },
  {
   "cell_type": "code",
   "execution_count": null,
   "metadata": {},
   "outputs": [],
   "source": [
    "regr.get_params(deep=True)"
   ]
  },
  {
   "cell_type": "code",
   "execution_count": null,
   "metadata": {},
   "outputs": [],
   "source": [
    "regr.decision_path(X_test)"
   ]
  },
  {
   "cell_type": "code",
   "execution_count": null,
   "metadata": {},
   "outputs": [],
   "source": [
    "regr.decision_path(X_train)"
   ]
  },
  {
   "cell_type": "code",
   "execution_count": null,
   "metadata": {},
   "outputs": [],
   "source": [
    "importances = regr.feature_importances_\n",
    "importances"
   ]
  },
  {
   "cell_type": "code",
   "execution_count": null,
   "metadata": {},
   "outputs": [],
   "source": [
    "# We can sort the features by their importance\n",
    "sorted(zip(regr.feature_importances_, X.columns), reverse=True)"
   ]
  },
  {
   "cell_type": "code",
   "execution_count": null,
   "metadata": {},
   "outputs": [],
   "source": [
    "plt.scatter(regr.predict(X_train), regr.predict(X_train) - y_train.ravel(), c=\"blue\", label=\"Training Data\")\n",
    "plt.scatter(regr.predict(X_test), regr.predict(X_test) - y_test.ravel(), c=\"orange\", label=\"Testing Data\")\n",
    "plt.legend()\n",
    "plt.hlines(y=0, xmin=y_test.ravel().min(), xmax=y_test.ravel().max())\n",
    "plt.title(\"Residual Plot\")\n",
    "plt.show()"
   ]
  },
  {
   "cell_type": "code",
   "execution_count": null,
   "metadata": {},
   "outputs": [],
   "source": [
    "predictionsrf = regr.predict(X_test)\n",
    "MSE = mean_squared_error(y_test.ravel(), predictionsrf)\n",
    "r2 = regr.score(X_test, y_test.ravel())\n",
    "\n",
    "print(f\"MSE: {MSE}, R2: {r2}\")"
   ]
  },
  {
   "cell_type": "code",
   "execution_count": null,
   "metadata": {},
   "outputs": [],
   "source": [
    "predictionsrf.shape"
   ]
  },
  {
   "cell_type": "code",
   "execution_count": null,
   "metadata": {},
   "outputs": [],
   "source": [
    "y_test"
   ]
  },
  {
   "cell_type": "code",
   "execution_count": null,
   "metadata": {},
   "outputs": [],
   "source": [
    "y_test.ravel().shape"
   ]
  },
  {
   "cell_type": "code",
   "execution_count": null,
   "metadata": {},
   "outputs": [],
   "source": [
    "predictionsrf - y_test.ravel()"
   ]
  },
  {
   "cell_type": "code",
   "execution_count": null,
   "metadata": {},
   "outputs": [],
   "source": [
    "X_test"
   ]
  },
  {
   "cell_type": "code",
   "execution_count": null,
   "metadata": {},
   "outputs": [],
   "source": [
    "pr = regr.predict([[1.32,1,0,0,0,0,0,0,0,0,0,0,0,0,0,0,0,0,0,0,0,0,0,0,0,0,0,0,0,0,0,0,0,0,0,0,0,0,0,0,0,0,0,0,1,0,0,0,0,0,0,0,0,1,0,0,0,0,0,0,0,0,0,0,0,0,0,0,0,0]])\n",
    "pr"
   ]
  },
  {
   "cell_type": "code",
   "execution_count": null,
   "metadata": {},
   "outputs": [],
   "source": [
    "# df.loc[(df['column_name'] >= A) & (df['column_name'] <= B)]\n",
    "xpr = uber.loc[(uber[\"dist\"] == 1.32) & (uber[\"place_Atlanta High Museum\"] == 1) &\n",
    "                (uber[\"display_name_UberX\"] == 1) & (uber[\"time_07:00\"] == 1)]\n",
    "xpr"
   ]
  },
  {
   "cell_type": "code",
   "execution_count": null,
   "metadata": {},
   "outputs": [],
   "source": [
    "xpr_all = uber_all.loc[(uber_all[\"dist\"] == 1.32) & (uber_all[\"place\"] == \"Atlanta High Museum\") &\n",
    "                (uber_all[\"display_name\"] == \"UberX\") & (uber_all[\"time\"] == \"07:00\")]\n",
    "xpr_all"
   ]
  },
  {
   "cell_type": "code",
   "execution_count": null,
   "metadata": {},
   "outputs": [],
   "source": [
    "pd.DataFrame({\"Predicted\": predictionsrf, \"Actual\": y_test.ravel(), \"Error\": predictionsrf - y_test.ravel()})[[\"Predicted\", \"Actual\", \"Error\"]]"
   ]
  },
  {
   "cell_type": "code",
   "execution_count": null,
   "metadata": {},
   "outputs": [],
   "source": []
  },
  {
   "cell_type": "code",
   "execution_count": null,
   "metadata": {},
   "outputs": [],
   "source": []
  },
  {
   "cell_type": "code",
   "execution_count": null,
   "metadata": {},
   "outputs": [],
   "source": []
  },
  {
   "cell_type": "code",
   "execution_count": null,
   "metadata": {},
   "outputs": [],
   "source": []
  },
  {
   "cell_type": "code",
   "execution_count": null,
   "metadata": {},
   "outputs": [],
   "source": []
  }
 ],
 "metadata": {
  "celltoolbar": "Create Assignment",
  "kernelspec": {
   "display_name": "Python 3",
   "language": "python",
   "name": "python3"
  },
  "language_info": {
   "codemirror_mode": {
    "name": "ipython",
    "version": 3
   },
   "file_extension": ".py",
   "mimetype": "text/x-python",
   "name": "python",
   "nbconvert_exporter": "python",
   "pygments_lexer": "ipython3",
   "version": "3.7.1"
  },
  "varInspector": {
   "cols": {
    "lenName": 16,
    "lenType": 16,
    "lenVar": 40
   },
   "kernels_config": {
    "python": {
     "delete_cmd_postfix": "",
     "delete_cmd_prefix": "del ",
     "library": "var_list.py",
     "varRefreshCmd": "print(var_dic_list())"
    },
    "r": {
     "delete_cmd_postfix": ") ",
     "delete_cmd_prefix": "rm(",
     "library": "var_list.r",
     "varRefreshCmd": "cat(var_dic_list()) "
    }
   },
   "types_to_exclude": [
    "module",
    "function",
    "builtin_function_or_method",
    "instance",
    "_Feature"
   ],
   "window_display": false
  }
 },
 "nbformat": 4,
 "nbformat_minor": 2
}
